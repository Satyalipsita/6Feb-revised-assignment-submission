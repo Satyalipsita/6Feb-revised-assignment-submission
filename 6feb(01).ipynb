{
 "cells": [
  {
   "cell_type": "code",
   "execution_count": null,
   "id": "e1e2a259-e5bf-4efd-8cfa-cee23294b196",
   "metadata": {},
   "outputs": [],
   "source": [
    "list1 = [1,2,34,[44,55,66,True],False,(34,56,78,89,34),{1,2,3,3,2,1},{1:34, \"key2\":[55,67,78,89],4:(45,22,61,34)},[56,'Data science'],'machine learning']\n",
    "\n",
    "def flatten(lst):\n",
    "    flat_list = []\n",
    "    for item in lst:\n",
    "        if isinstance(item, (list, tuple)):\n",
    "            flat_list.extend(flatten(item))\n",
    "        else:\n",
    "            flat_list.append(item)\n",
    "    return flat_list\n",
    "\n",
    "flat_list1 = flatten(list1)\n",
    "product = 1\n",
    "for num in flat_list1:\n",
    "    product *= num\n",
    "\n",
    "print(product)\n"
   ]
  }
 ],
 "metadata": {
  "kernelspec": {
   "display_name": "Python 3 (ipykernel)",
   "language": "python",
   "name": "python3"
  },
  "language_info": {
   "codemirror_mode": {
    "name": "ipython",
    "version": 3
   },
   "file_extension": ".py",
   "mimetype": "text/x-python",
   "name": "python",
   "nbconvert_exporter": "python",
   "pygments_lexer": "ipython3",
   "version": "3.10.8"
  }
 },
 "nbformat": 4,
 "nbformat_minor": 5
}
